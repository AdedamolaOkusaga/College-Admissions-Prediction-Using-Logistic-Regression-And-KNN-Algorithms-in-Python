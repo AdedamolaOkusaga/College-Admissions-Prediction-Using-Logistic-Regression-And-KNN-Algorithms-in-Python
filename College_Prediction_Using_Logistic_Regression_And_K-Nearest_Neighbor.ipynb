{
 "cells": [
  {
   "cell_type": "code",
   "execution_count": 1,
   "id": "ee8e3642",
   "metadata": {},
   "outputs": [],
   "source": [
    "#import all necessary libraries\n",
    "import pandas as pd \n",
    "import numpy as np\n",
    "import matplotlib.pyplot as plt\n",
    "import seaborn as sns\n",
    "from sklearn.preprocessing import StandardScaler\n",
    "from sklearn.preprocessing import LabelEncoder\n",
    "from sklearn.model_selection import train_test_split\n",
    "from sklearn.linear_model import LogisticRegression\n",
    "from sklearn.neighbors import KNeighborsClassifier\n",
    "from sklearn.model_selection import GridSearchCV\n",
    "from sklearn import metrics\n",
    "from sklearn.feature_selection import chi2,SelectKBest\n",
    "from sklearn.decomposition import PCA\n",
    "from sklearn.model_selection import cross_val_score, cross_validate\n",
    "from sklearn.impute import SimpleImputer"
   ]
  },
  {
   "cell_type": "code",
   "execution_count": 2,
   "id": "7af945f4",
   "metadata": {},
   "outputs": [],
   "source": [
    "#load the dataset to the notebook\n",
    "college = pd.read_csv('go to college.csv')"
   ]
  },
  {
   "cell_type": "code",
   "execution_count": 3,
   "id": "ab42f29a",
   "metadata": {},
   "outputs": [
    {
     "data": {
      "text/html": [
       "<div>\n",
       "<style scoped>\n",
       "    .dataframe tbody tr th:only-of-type {\n",
       "        vertical-align: middle;\n",
       "    }\n",
       "\n",
       "    .dataframe tbody tr th {\n",
       "        vertical-align: top;\n",
       "    }\n",
       "\n",
       "    .dataframe thead th {\n",
       "        text-align: right;\n",
       "    }\n",
       "</style>\n",
       "<table border=\"1\" class=\"dataframe\">\n",
       "  <thead>\n",
       "    <tr style=\"text-align: right;\">\n",
       "      <th></th>\n",
       "      <th>type_school</th>\n",
       "      <th>school_accreditation</th>\n",
       "      <th>gender</th>\n",
       "      <th>interest</th>\n",
       "      <th>residence</th>\n",
       "      <th>parent_age</th>\n",
       "      <th>parent_salary</th>\n",
       "      <th>house_area</th>\n",
       "      <th>average_grades</th>\n",
       "      <th>parent_was_in_college</th>\n",
       "      <th>will_go_to_college</th>\n",
       "    </tr>\n",
       "  </thead>\n",
       "  <tbody>\n",
       "    <tr>\n",
       "      <th>0</th>\n",
       "      <td>Academic</td>\n",
       "      <td>A</td>\n",
       "      <td>Male</td>\n",
       "      <td>Less Interested</td>\n",
       "      <td>Urban</td>\n",
       "      <td>56</td>\n",
       "      <td>6950000</td>\n",
       "      <td>83.0</td>\n",
       "      <td>84.09</td>\n",
       "      <td>False</td>\n",
       "      <td>True</td>\n",
       "    </tr>\n",
       "    <tr>\n",
       "      <th>1</th>\n",
       "      <td>Academic</td>\n",
       "      <td>A</td>\n",
       "      <td>Male</td>\n",
       "      <td>Less Interested</td>\n",
       "      <td>Urban</td>\n",
       "      <td>57</td>\n",
       "      <td>4410000</td>\n",
       "      <td>76.8</td>\n",
       "      <td>86.91</td>\n",
       "      <td>False</td>\n",
       "      <td>True</td>\n",
       "    </tr>\n",
       "    <tr>\n",
       "      <th>2</th>\n",
       "      <td>Academic</td>\n",
       "      <td>B</td>\n",
       "      <td>Female</td>\n",
       "      <td>Very Interested</td>\n",
       "      <td>Urban</td>\n",
       "      <td>50</td>\n",
       "      <td>6500000</td>\n",
       "      <td>80.6</td>\n",
       "      <td>87.43</td>\n",
       "      <td>False</td>\n",
       "      <td>True</td>\n",
       "    </tr>\n",
       "    <tr>\n",
       "      <th>3</th>\n",
       "      <td>Vocational</td>\n",
       "      <td>B</td>\n",
       "      <td>Male</td>\n",
       "      <td>Very Interested</td>\n",
       "      <td>Rural</td>\n",
       "      <td>49</td>\n",
       "      <td>6600000</td>\n",
       "      <td>78.2</td>\n",
       "      <td>82.12</td>\n",
       "      <td>True</td>\n",
       "      <td>True</td>\n",
       "    </tr>\n",
       "    <tr>\n",
       "      <th>4</th>\n",
       "      <td>Academic</td>\n",
       "      <td>A</td>\n",
       "      <td>Female</td>\n",
       "      <td>Very Interested</td>\n",
       "      <td>Urban</td>\n",
       "      <td>57</td>\n",
       "      <td>5250000</td>\n",
       "      <td>75.1</td>\n",
       "      <td>86.79</td>\n",
       "      <td>False</td>\n",
       "      <td>False</td>\n",
       "    </tr>\n",
       "  </tbody>\n",
       "</table>\n",
       "</div>"
      ],
      "text/plain": [
       "  type_school school_accreditation  gender         interest residence  \\\n",
       "0    Academic                    A    Male  Less Interested     Urban   \n",
       "1    Academic                    A    Male  Less Interested     Urban   \n",
       "2    Academic                    B  Female  Very Interested     Urban   \n",
       "3  Vocational                    B    Male  Very Interested     Rural   \n",
       "4    Academic                    A  Female  Very Interested     Urban   \n",
       "\n",
       "   parent_age  parent_salary  house_area  average_grades  \\\n",
       "0          56        6950000        83.0           84.09   \n",
       "1          57        4410000        76.8           86.91   \n",
       "2          50        6500000        80.6           87.43   \n",
       "3          49        6600000        78.2           82.12   \n",
       "4          57        5250000        75.1           86.79   \n",
       "\n",
       "   parent_was_in_college  will_go_to_college  \n",
       "0                  False                True  \n",
       "1                  False                True  \n",
       "2                  False                True  \n",
       "3                   True                True  \n",
       "4                  False               False  "
      ]
     },
     "execution_count": 3,
     "metadata": {},
     "output_type": "execute_result"
    }
   ],
   "source": [
    "#check the first 5 rows of the data\n",
    "college.head()"
   ]
  },
  {
   "cell_type": "code",
   "execution_count": 4,
   "id": "a5e946d4",
   "metadata": {},
   "outputs": [
    {
     "data": {
      "text/html": [
       "<div>\n",
       "<style scoped>\n",
       "    .dataframe tbody tr th:only-of-type {\n",
       "        vertical-align: middle;\n",
       "    }\n",
       "\n",
       "    .dataframe tbody tr th {\n",
       "        vertical-align: top;\n",
       "    }\n",
       "\n",
       "    .dataframe thead th {\n",
       "        text-align: right;\n",
       "    }\n",
       "</style>\n",
       "<table border=\"1\" class=\"dataframe\">\n",
       "  <thead>\n",
       "    <tr style=\"text-align: right;\">\n",
       "      <th></th>\n",
       "      <th>parent_age</th>\n",
       "      <th>parent_salary</th>\n",
       "      <th>house_area</th>\n",
       "      <th>average_grades</th>\n",
       "    </tr>\n",
       "  </thead>\n",
       "  <tbody>\n",
       "    <tr>\n",
       "      <th>count</th>\n",
       "      <td>1000.000000</td>\n",
       "      <td>1.000000e+03</td>\n",
       "      <td>1000.000000</td>\n",
       "      <td>1000.000000</td>\n",
       "    </tr>\n",
       "    <tr>\n",
       "      <th>mean</th>\n",
       "      <td>52.208000</td>\n",
       "      <td>5.381570e+06</td>\n",
       "      <td>74.515300</td>\n",
       "      <td>86.097200</td>\n",
       "    </tr>\n",
       "    <tr>\n",
       "      <th>std</th>\n",
       "      <td>3.500427</td>\n",
       "      <td>1.397546e+06</td>\n",
       "      <td>15.293346</td>\n",
       "      <td>3.378738</td>\n",
       "    </tr>\n",
       "    <tr>\n",
       "      <th>min</th>\n",
       "      <td>40.000000</td>\n",
       "      <td>1.000000e+06</td>\n",
       "      <td>20.000000</td>\n",
       "      <td>75.000000</td>\n",
       "    </tr>\n",
       "    <tr>\n",
       "      <th>25%</th>\n",
       "      <td>50.000000</td>\n",
       "      <td>4.360000e+06</td>\n",
       "      <td>64.600000</td>\n",
       "      <td>83.737500</td>\n",
       "    </tr>\n",
       "    <tr>\n",
       "      <th>50%</th>\n",
       "      <td>52.000000</td>\n",
       "      <td>5.440000e+06</td>\n",
       "      <td>75.500000</td>\n",
       "      <td>85.575000</td>\n",
       "    </tr>\n",
       "    <tr>\n",
       "      <th>75%</th>\n",
       "      <td>54.000000</td>\n",
       "      <td>6.382500e+06</td>\n",
       "      <td>84.825000</td>\n",
       "      <td>88.262500</td>\n",
       "    </tr>\n",
       "    <tr>\n",
       "      <th>max</th>\n",
       "      <td>65.000000</td>\n",
       "      <td>1.000000e+07</td>\n",
       "      <td>120.000000</td>\n",
       "      <td>98.000000</td>\n",
       "    </tr>\n",
       "  </tbody>\n",
       "</table>\n",
       "</div>"
      ],
      "text/plain": [
       "        parent_age  parent_salary   house_area  average_grades\n",
       "count  1000.000000   1.000000e+03  1000.000000     1000.000000\n",
       "mean     52.208000   5.381570e+06    74.515300       86.097200\n",
       "std       3.500427   1.397546e+06    15.293346        3.378738\n",
       "min      40.000000   1.000000e+06    20.000000       75.000000\n",
       "25%      50.000000   4.360000e+06    64.600000       83.737500\n",
       "50%      52.000000   5.440000e+06    75.500000       85.575000\n",
       "75%      54.000000   6.382500e+06    84.825000       88.262500\n",
       "max      65.000000   1.000000e+07   120.000000       98.000000"
      ]
     },
     "execution_count": 4,
     "metadata": {},
     "output_type": "execute_result"
    }
   ],
   "source": [
    "#Check a quick statistical review of the numerical columns in the dataset\n",
    "college.describe()"
   ]
  },
  {
   "cell_type": "code",
   "execution_count": 5,
   "id": "89db6891",
   "metadata": {},
   "outputs": [
    {
     "name": "stdout",
     "output_type": "stream",
     "text": [
      "<class 'pandas.core.frame.DataFrame'>\n",
      "RangeIndex: 1000 entries, 0 to 999\n",
      "Data columns (total 11 columns):\n",
      " #   Column                 Non-Null Count  Dtype  \n",
      "---  ------                 --------------  -----  \n",
      " 0   type_school            1000 non-null   object \n",
      " 1   school_accreditation   1000 non-null   object \n",
      " 2   gender                 1000 non-null   object \n",
      " 3   interest               1000 non-null   object \n",
      " 4   residence              1000 non-null   object \n",
      " 5   parent_age             1000 non-null   int64  \n",
      " 6   parent_salary          1000 non-null   int64  \n",
      " 7   house_area             1000 non-null   float64\n",
      " 8   average_grades         1000 non-null   float64\n",
      " 9   parent_was_in_college  1000 non-null   bool   \n",
      " 10  will_go_to_college     1000 non-null   bool   \n",
      "dtypes: bool(2), float64(2), int64(2), object(5)\n",
      "memory usage: 72.4+ KB\n"
     ]
    }
   ],
   "source": [
    "#Check for important information about the dataset\n",
    "college.info()"
   ]
  },
  {
   "cell_type": "code",
   "execution_count": 6,
   "id": "9305c3a9",
   "metadata": {},
   "outputs": [
    {
     "data": {
      "text/plain": [
       "type_school              0\n",
       "school_accreditation     0\n",
       "gender                   0\n",
       "interest                 0\n",
       "residence                0\n",
       "parent_age               0\n",
       "parent_salary            0\n",
       "house_area               0\n",
       "average_grades           0\n",
       "parent_was_in_college    0\n",
       "will_go_to_college       0\n",
       "dtype: int64"
      ]
     },
     "execution_count": 6,
     "metadata": {},
     "output_type": "execute_result"
    }
   ],
   "source": [
    "#Check for missing values in the dataset\n",
    "college.isnull().sum()"
   ]
  },
  {
   "cell_type": "code",
   "execution_count": 7,
   "id": "4b814968",
   "metadata": {},
   "outputs": [],
   "source": [
    "#convert categorical values into numerical ones\n",
    "le = LabelEncoder()\n",
    "for col in college.columns:\n",
    "    if college[col].dtypes == 'object' or 'bool':\n",
    "        college[col] = le.fit_transform(college[col])"
   ]
  },
  {
   "cell_type": "code",
   "execution_count": 8,
   "id": "eccd8e1d",
   "metadata": {
    "scrolled": true
   },
   "outputs": [
    {
     "data": {
      "text/html": [
       "<div>\n",
       "<style scoped>\n",
       "    .dataframe tbody tr th:only-of-type {\n",
       "        vertical-align: middle;\n",
       "    }\n",
       "\n",
       "    .dataframe tbody tr th {\n",
       "        vertical-align: top;\n",
       "    }\n",
       "\n",
       "    .dataframe thead th {\n",
       "        text-align: right;\n",
       "    }\n",
       "</style>\n",
       "<table border=\"1\" class=\"dataframe\">\n",
       "  <thead>\n",
       "    <tr style=\"text-align: right;\">\n",
       "      <th></th>\n",
       "      <th>type_school</th>\n",
       "      <th>school_accreditation</th>\n",
       "      <th>gender</th>\n",
       "      <th>interest</th>\n",
       "      <th>residence</th>\n",
       "      <th>parent_age</th>\n",
       "      <th>parent_salary</th>\n",
       "      <th>house_area</th>\n",
       "      <th>average_grades</th>\n",
       "      <th>parent_was_in_college</th>\n",
       "      <th>will_go_to_college</th>\n",
       "    </tr>\n",
       "  </thead>\n",
       "  <tbody>\n",
       "    <tr>\n",
       "      <th>0</th>\n",
       "      <td>0</td>\n",
       "      <td>0</td>\n",
       "      <td>1</td>\n",
       "      <td>1</td>\n",
       "      <td>1</td>\n",
       "      <td>16</td>\n",
       "      <td>376</td>\n",
       "      <td>313</td>\n",
       "      <td>200</td>\n",
       "      <td>0</td>\n",
       "      <td>1</td>\n",
       "    </tr>\n",
       "    <tr>\n",
       "      <th>1</th>\n",
       "      <td>0</td>\n",
       "      <td>0</td>\n",
       "      <td>1</td>\n",
       "      <td>1</td>\n",
       "      <td>1</td>\n",
       "      <td>17</td>\n",
       "      <td>147</td>\n",
       "      <td>256</td>\n",
       "      <td>405</td>\n",
       "      <td>0</td>\n",
       "      <td>1</td>\n",
       "    </tr>\n",
       "    <tr>\n",
       "      <th>2</th>\n",
       "      <td>0</td>\n",
       "      <td>1</td>\n",
       "      <td>0</td>\n",
       "      <td>4</td>\n",
       "      <td>1</td>\n",
       "      <td>10</td>\n",
       "      <td>340</td>\n",
       "      <td>293</td>\n",
       "      <td>438</td>\n",
       "      <td>0</td>\n",
       "      <td>1</td>\n",
       "    </tr>\n",
       "    <tr>\n",
       "      <th>3</th>\n",
       "      <td>1</td>\n",
       "      <td>1</td>\n",
       "      <td>1</td>\n",
       "      <td>4</td>\n",
       "      <td>0</td>\n",
       "      <td>9</td>\n",
       "      <td>349</td>\n",
       "      <td>270</td>\n",
       "      <td>81</td>\n",
       "      <td>1</td>\n",
       "      <td>1</td>\n",
       "    </tr>\n",
       "    <tr>\n",
       "      <th>4</th>\n",
       "      <td>0</td>\n",
       "      <td>0</td>\n",
       "      <td>0</td>\n",
       "      <td>4</td>\n",
       "      <td>1</td>\n",
       "      <td>17</td>\n",
       "      <td>224</td>\n",
       "      <td>242</td>\n",
       "      <td>395</td>\n",
       "      <td>0</td>\n",
       "      <td>0</td>\n",
       "    </tr>\n",
       "  </tbody>\n",
       "</table>\n",
       "</div>"
      ],
      "text/plain": [
       "   type_school  school_accreditation  gender  interest  residence  parent_age  \\\n",
       "0            0                     0       1         1          1          16   \n",
       "1            0                     0       1         1          1          17   \n",
       "2            0                     1       0         4          1          10   \n",
       "3            1                     1       1         4          0           9   \n",
       "4            0                     0       0         4          1          17   \n",
       "\n",
       "   parent_salary  house_area  average_grades  parent_was_in_college  \\\n",
       "0            376         313             200                      0   \n",
       "1            147         256             405                      0   \n",
       "2            340         293             438                      0   \n",
       "3            349         270              81                      1   \n",
       "4            224         242             395                      0   \n",
       "\n",
       "   will_go_to_college  \n",
       "0                   1  \n",
       "1                   1  \n",
       "2                   1  \n",
       "3                   1  \n",
       "4                   0  "
      ]
     },
     "execution_count": 8,
     "metadata": {},
     "output_type": "execute_result"
    }
   ],
   "source": [
    "college.head()"
   ]
  },
  {
   "cell_type": "code",
   "execution_count": 9,
   "id": "e9fcc58d",
   "metadata": {},
   "outputs": [
    {
     "data": {
      "image/png": "[encoded data removed]",
      "text/plain": [
       "<Figure size 640x480 with 1 Axes>"
      ]
     },
     "metadata": {},
     "output_type": "display_data"
    }
   ],
   "source": [
    "# Explore the distribution of 'average_grades' using a histogram\n",
    "plt.hist(college['average_grades'], bins=10, color='skyblue')\n",
    "plt.xlabel('Average Grades')\n",
    "plt.ylabel('Frequency')\n",
    "plt.title('Distribution of Average Grades')\n",
    "plt.show()"
   ]
  },
  {
   "cell_type": "code",
   "execution_count": 10,
   "id": "e2bf72fd",
   "metadata": {
    "scrolled": false
   },
   "outputs": [
    {
     "data": {
      "image/png": "[encoded data removed]",
      "text/plain": [
       "<Figure size 640x480 with 1 Axes>"
      ]
     },
     "metadata": {},
     "output_type": "display_data"
    }
   ],
   "source": [
    "# Create a scatterplot between 'average_grades' and 'interest'\n",
    "plt.scatter(college['average_grades'], college['interest'])\n",
    "plt.xlabel('Average Grades')\n",
    "plt.ylabel('Interest')\n",
    "plt.title('Scatterplot of Average Grades vs Interest')\n",
    "plt.show()\n"
   ]
  },
  {
   "cell_type": "code",
   "execution_count": 11,
   "id": "9d8e9a59",
   "metadata": {},
   "outputs": [
    {
     "data": {
      "image/png": "[encoded data removed]",
      "text/plain": [
       "<Figure size 640x480 with 2 Axes>"
      ]
     },
     "metadata": {},
     "output_type": "display_data"
    }
   ],
   "source": [
    "# Compute the correlation matrix\n",
    "corr_matrix = college.corr()\n",
    "\n",
    "# Plot the correlation matrix using a heatmap\n",
    "sns.heatmap(corr_matrix, annot=True, cmap='coolwarm')\n",
    "\n",
    "# Display the plot\n",
    "plt.show()"
   ]
  },
  {
   "cell_type": "code",
   "execution_count": 12,
   "id": "3231fd33",
   "metadata": {},
   "outputs": [],
   "source": [
    "#Split the dataset into X and y\n",
    "X = college.drop(['will_go_to_college'], axis = 1)\n",
    "y = college['will_go_to_college']"
   ]
  },
  {
   "cell_type": "code",
   "execution_count": 13,
   "id": "901a30d2",
   "metadata": {},
   "outputs": [
    {
     "data": {
      "text/html": [
       "<div>\n",
       "<style scoped>\n",
       "    .dataframe tbody tr th:only-of-type {\n",
       "        vertical-align: middle;\n",
       "    }\n",
       "\n",
       "    .dataframe tbody tr th {\n",
       "        vertical-align: top;\n",
       "    }\n",
       "\n",
       "    .dataframe thead th {\n",
       "        text-align: right;\n",
       "    }\n",
       "</style>\n",
       "<table border=\"1\" class=\"dataframe\">\n",
       "  <thead>\n",
       "    <tr style=\"text-align: right;\">\n",
       "      <th></th>\n",
       "      <th>type_school</th>\n",
       "      <th>school_accreditation</th>\n",
       "      <th>gender</th>\n",
       "      <th>interest</th>\n",
       "      <th>residence</th>\n",
       "      <th>parent_age</th>\n",
       "      <th>parent_salary</th>\n",
       "      <th>house_area</th>\n",
       "      <th>average_grades</th>\n",
       "      <th>parent_was_in_college</th>\n",
       "    </tr>\n",
       "  </thead>\n",
       "  <tbody>\n",
       "    <tr>\n",
       "      <th>0</th>\n",
       "      <td>0</td>\n",
       "      <td>0</td>\n",
       "      <td>1</td>\n",
       "      <td>1</td>\n",
       "      <td>1</td>\n",
       "      <td>16</td>\n",
       "      <td>376</td>\n",
       "      <td>313</td>\n",
       "      <td>200</td>\n",
       "      <td>0</td>\n",
       "    </tr>\n",
       "    <tr>\n",
       "      <th>1</th>\n",
       "      <td>0</td>\n",
       "      <td>0</td>\n",
       "      <td>1</td>\n",
       "      <td>1</td>\n",
       "      <td>1</td>\n",
       "      <td>17</td>\n",
       "      <td>147</td>\n",
       "      <td>256</td>\n",
       "      <td>405</td>\n",
       "      <td>0</td>\n",
       "    </tr>\n",
       "    <tr>\n",
       "      <th>2</th>\n",
       "      <td>0</td>\n",
       "      <td>1</td>\n",
       "      <td>0</td>\n",
       "      <td>4</td>\n",
       "      <td>1</td>\n",
       "      <td>10</td>\n",
       "      <td>340</td>\n",
       "      <td>293</td>\n",
       "      <td>438</td>\n",
       "      <td>0</td>\n",
       "    </tr>\n",
       "    <tr>\n",
       "      <th>3</th>\n",
       "      <td>1</td>\n",
       "      <td>1</td>\n",
       "      <td>1</td>\n",
       "      <td>4</td>\n",
       "      <td>0</td>\n",
       "      <td>9</td>\n",
       "      <td>349</td>\n",
       "      <td>270</td>\n",
       "      <td>81</td>\n",
       "      <td>1</td>\n",
       "    </tr>\n",
       "    <tr>\n",
       "      <th>4</th>\n",
       "      <td>0</td>\n",
       "      <td>0</td>\n",
       "      <td>0</td>\n",
       "      <td>4</td>\n",
       "      <td>1</td>\n",
       "      <td>17</td>\n",
       "      <td>224</td>\n",
       "      <td>242</td>\n",
       "      <td>395</td>\n",
       "      <td>0</td>\n",
       "    </tr>\n",
       "    <tr>\n",
       "      <th>...</th>\n",
       "      <td>...</td>\n",
       "      <td>...</td>\n",
       "      <td>...</td>\n",
       "      <td>...</td>\n",
       "      <td>...</td>\n",
       "      <td>...</td>\n",
       "      <td>...</td>\n",
       "      <td>...</td>\n",
       "      <td>...</td>\n",
       "      <td>...</td>\n",
       "    </tr>\n",
       "    <tr>\n",
       "      <th>995</th>\n",
       "      <td>1</td>\n",
       "      <td>0</td>\n",
       "      <td>0</td>\n",
       "      <td>4</td>\n",
       "      <td>0</td>\n",
       "      <td>9</td>\n",
       "      <td>407</td>\n",
       "      <td>145</td>\n",
       "      <td>343</td>\n",
       "      <td>1</td>\n",
       "    </tr>\n",
       "    <tr>\n",
       "      <th>996</th>\n",
       "      <td>0</td>\n",
       "      <td>1</td>\n",
       "      <td>0</td>\n",
       "      <td>1</td>\n",
       "      <td>0</td>\n",
       "      <td>11</td>\n",
       "      <td>412</td>\n",
       "      <td>322</td>\n",
       "      <td>559</td>\n",
       "      <td>1</td>\n",
       "    </tr>\n",
       "    <tr>\n",
       "      <th>997</th>\n",
       "      <td>1</td>\n",
       "      <td>0</td>\n",
       "      <td>1</td>\n",
       "      <td>1</td>\n",
       "      <td>1</td>\n",
       "      <td>9</td>\n",
       "      <td>253</td>\n",
       "      <td>243</td>\n",
       "      <td>12</td>\n",
       "      <td>0</td>\n",
       "    </tr>\n",
       "    <tr>\n",
       "      <th>998</th>\n",
       "      <td>0</td>\n",
       "      <td>1</td>\n",
       "      <td>1</td>\n",
       "      <td>3</td>\n",
       "      <td>0</td>\n",
       "      <td>13</td>\n",
       "      <td>278</td>\n",
       "      <td>457</td>\n",
       "      <td>423</td>\n",
       "      <td>1</td>\n",
       "    </tr>\n",
       "    <tr>\n",
       "      <th>999</th>\n",
       "      <td>0</td>\n",
       "      <td>1</td>\n",
       "      <td>1</td>\n",
       "      <td>0</td>\n",
       "      <td>1</td>\n",
       "      <td>10</td>\n",
       "      <td>29</td>\n",
       "      <td>192</td>\n",
       "      <td>352</td>\n",
       "      <td>1</td>\n",
       "    </tr>\n",
       "  </tbody>\n",
       "</table>\n",
       "<p>1000 rows × 10 columns</p>\n",
       "</div>"
      ],
      "text/plain": [
       "     type_school  school_accreditation  gender  interest  residence  \\\n",
       "0              0                     0       1         1          1   \n",
       "1              0                     0       1         1          1   \n",
       "2              0                     1       0         4          1   \n",
       "3              1                     1       1         4          0   \n",
       "4              0                     0       0         4          1   \n",
       "..           ...                   ...     ...       ...        ...   \n",
       "995            1                     0       0         4          0   \n",
       "996            0                     1       0         1          0   \n",
       "997            1                     0       1         1          1   \n",
       "998            0                     1       1         3          0   \n",
       "999            0                     1       1         0          1   \n",
       "\n",
       "     parent_age  parent_salary  house_area  average_grades  \\\n",
       "0            16            376         313             200   \n",
       "1            17            147         256             405   \n",
       "2            10            340         293             438   \n",
       "3             9            349         270              81   \n",
       "4            17            224         242             395   \n",
       "..          ...            ...         ...             ...   \n",
       "995           9            407         145             343   \n",
       "996          11            412         322             559   \n",
       "997           9            253         243              12   \n",
       "998          13            278         457             423   \n",
       "999          10             29         192             352   \n",
       "\n",
       "     parent_was_in_college  \n",
       "0                        0  \n",
       "1                        0  \n",
       "2                        0  \n",
       "3                        1  \n",
       "4                        0  \n",
       "..                     ...  \n",
       "995                      1  \n",
       "996                      1  \n",
       "997                      0  \n",
       "998                      1  \n",
       "999                      1  \n",
       "\n",
       "[1000 rows x 10 columns]"
      ]
     },
     "execution_count": 13,
     "metadata": {},
     "output_type": "execute_result"
    }
   ],
   "source": [
    "#view X\n",
    "X"
   ]
  },
  {
   "cell_type": "code",
   "execution_count": 14,
   "id": "09e60ba2",
   "metadata": {},
   "outputs": [
    {
     "data": {
      "text/plain": [
       "0      1\n",
       "1      1\n",
       "2      1\n",
       "3      1\n",
       "4      0\n",
       "      ..\n",
       "995    1\n",
       "996    1\n",
       "997    1\n",
       "998    1\n",
       "999    0\n",
       "Name: will_go_to_college, Length: 1000, dtype: int64"
      ]
     },
     "execution_count": 14,
     "metadata": {},
     "output_type": "execute_result"
    }
   ],
   "source": [
    "#view y\n",
    "y"
   ]
  },
  {
   "cell_type": "code",
   "execution_count": 15,
   "id": "9accf3a3",
   "metadata": {},
   "outputs": [],
   "source": [
    "#Split the dataset into train and test sets\n",
    "X_train, X_test, y_train, y_test = train_test_split(X , y , test_size= 0.2, random_state= 0)"
   ]
  },
  {
   "cell_type": "code",
   "execution_count": 16,
   "id": "13a94293",
   "metadata": {},
   "outputs": [],
   "source": [
    "#Standardize the data\n",
    "sc = StandardScaler()\n",
    "X_train = sc.fit_transform(X_train)\n",
    "X_test = sc.transform(X_test)"
   ]
  },
  {
   "cell_type": "code",
   "execution_count": 17,
   "id": "ebad35a6",
   "metadata": {},
   "outputs": [
    {
     "data": {
      "text/plain": [
       "array([[-0.81862454,  0.95836592,  0.95596841, ...,  0.00525201,\n",
       "         1.15393792,  0.94880848],\n",
       "       [ 1.22156123, -1.04344279, -1.04605967, ..., -1.09044432,\n",
       "         0.92160777, -1.05395348],\n",
       "       [-0.81862454,  0.95836592, -1.04605967, ..., -1.11632692,\n",
       "        -0.5101943 ,  0.94880848],\n",
       "       ...,\n",
       "       [ 1.22156123, -1.04344279, -1.04605967, ...,  0.04838966,\n",
       "        -0.87219709, -1.05395348],\n",
       "       [-0.81862454,  0.95836592,  0.95596841, ..., -0.16729859,\n",
       "        -0.31568534,  0.94880848],\n",
       "       [-0.81862454,  0.95836592,  0.95596841, ...,  1.3166366 ,\n",
       "         0.35428997,  0.94880848]])"
      ]
     },
     "execution_count": 17,
     "metadata": {},
     "output_type": "execute_result"
    }
   ],
   "source": [
    "X_train"
   ]
  },
  {
   "cell_type": "code",
   "execution_count": 18,
   "id": "123eb01e",
   "metadata": {},
   "outputs": [
    {
     "data": {
      "text/plain": [
       "array([[-0.81862454,  0.95836592,  0.95596841, ..., -1.60809614,\n",
       "        -0.53720944,  0.94880848],\n",
       "       [-0.81862454, -1.04344279,  0.95596841, ...,  0.4883937 ,\n",
       "        -0.85058498, -1.05395348],\n",
       "       [ 1.22156123, -1.04344279, -1.04605967, ..., -0.67632288,\n",
       "        -0.91001828, -1.05395348],\n",
       "       ...,\n",
       "       [-0.81862454, -1.04344279, -1.04605967, ..., -0.64181276,\n",
       "        -0.16980362, -1.05395348],\n",
       "       [-0.81862454, -1.04344279, -1.04605967, ...,  0.86800503,\n",
       "        -0.47777614, -1.05395348],\n",
       "       [-0.81862454,  0.95836592, -1.04605967, ...,  1.00604551,\n",
       "         1.68343453,  0.94880848]])"
      ]
     },
     "execution_count": 18,
     "metadata": {},
     "output_type": "execute_result"
    }
   ],
   "source": [
    "X_test"
   ]
  },
  {
   "cell_type": "code",
   "execution_count": 19,
   "id": "aae90e95",
   "metadata": {},
   "outputs": [
    {
     "data": {
      "text/plain": [
       "0    402\n",
       "1    398\n",
       "Name: will_go_to_college, dtype: int64"
      ]
     },
     "execution_count": 19,
     "metadata": {},
     "output_type": "execute_result"
    }
   ],
   "source": [
    "#view the distribution of class labels in the training set\n",
    "y_train.value_counts()"
   ]
  },
  {
   "cell_type": "code",
   "execution_count": 20,
   "id": "2dd15024",
   "metadata": {},
   "outputs": [],
   "source": [
    "#Create the logistic regression model\n",
    "classifier_LR = LogisticRegression(random_state=0)"
   ]
  },
  {
   "cell_type": "code",
   "execution_count": 21,
   "id": "88ed875d",
   "metadata": {},
   "outputs": [
    {
     "data": {
      "text/html": [
       "<style>#sk-container-id-1 {color: black;background-color: white;}#sk-container-id-1 pre{padding: 0;}#sk-container-id-1 div.sk-toggleable {background-color: white;}#sk-container-id-1 label.sk-toggleable__label {cursor: pointer;display: block;width: 100%;margin-bottom: 0;padding: 0.3em;box-sizing: border-box;text-align: center;}#sk-container-id-1 label.sk-toggleable__label-arrow:before {content: \"▸\";float: left;margin-right: 0.25em;color: #696969;}#sk-container-id-1 label.sk-toggleable__label-arrow:hover:before {color: black;}#sk-container-id-1 div.sk-estimator:hover label.sk-toggleable__label-arrow:before {color: black;}#sk-container-id-1 div.sk-toggleable__content {max-height: 0;max-width: 0;overflow: hidden;text-align: left;background-color: #f0f8ff;}#sk-container-id-1 div.sk-toggleable__content pre {margin: 0.2em;color: black;border-radius: 0.25em;background-color: #f0f8ff;}#sk-container-id-1 input.sk-toggleable__control:checked~div.sk-toggleable__content {max-height: 200px;max-width: 100%;overflow: auto;}#sk-container-id-1 input.sk-toggleable__control:checked~label.sk-toggleable__label-arrow:before {content: \"▾\";}#sk-container-id-1 div.sk-estimator input.sk-toggleable__control:checked~label.sk-toggleable__label {background-color: #d4ebff;}#sk-container-id-1 div.sk-label input.sk-toggleable__control:checked~label.sk-toggleable__label {background-color: #d4ebff;}#sk-container-id-1 input.sk-hidden--visually {border: 0;clip: rect(1px 1px 1px 1px);clip: rect(1px, 1px, 1px, 1px);height: 1px;margin: -1px;overflow: hidden;padding: 0;position: absolute;width: 1px;}#sk-container-id-1 div.sk-estimator {font-family: monospace;background-color: #f0f8ff;border: 1px dotted black;border-radius: 0.25em;box-sizing: border-box;margin-bottom: 0.5em;}#sk-container-id-1 div.sk-estimator:hover {background-color: #d4ebff;}#sk-container-id-1 div.sk-parallel-item::after {content: \"\";width: 100%;border-bottom: 1px solid gray;flex-grow: 1;}#sk-container-id-1 div.sk-label:hover label.sk-toggleable__label {background-color: #d4ebff;}#sk-container-id-1 div.sk-serial::before {content: \"\";position: absolute;border-left: 1px solid gray;box-sizing: border-box;top: 0;bottom: 0;left: 50%;z-index: 0;}#sk-container-id-1 div.sk-serial {display: flex;flex-direction: column;align-items: center;background-color: white;padding-right: 0.2em;padding-left: 0.2em;position: relative;}#sk-container-id-1 div.sk-item {position: relative;z-index: 1;}#sk-container-id-1 div.sk-parallel {display: flex;align-items: stretch;justify-content: center;background-color: white;position: relative;}#sk-container-id-1 div.sk-item::before, #sk-container-id-1 div.sk-parallel-item::before {content: \"\";position: absolute;border-left: 1px solid gray;box-sizing: border-box;top: 0;bottom: 0;left: 50%;z-index: -1;}#sk-container-id-1 div.sk-parallel-item {display: flex;flex-direction: column;z-index: 1;position: relative;background-color: white;}#sk-container-id-1 div.sk-parallel-item:first-child::after {align-self: flex-end;width: 50%;}#sk-container-id-1 div.sk-parallel-item:last-child::after {align-self: flex-start;width: 50%;}#sk-container-id-1 div.sk-parallel-item:only-child::after {width: 0;}#sk-container-id-1 div.sk-dashed-wrapped {border: 1px dashed gray;margin: 0 0.4em 0.5em 0.4em;box-sizing: border-box;padding-bottom: 0.4em;background-color: white;}#sk-container-id-1 div.sk-label label {font-family: monospace;font-weight: bold;display: inline-block;line-height: 1.2em;}#sk-container-id-1 div.sk-label-container {text-align: center;}#sk-container-id-1 div.sk-container {/* jupyter's `normalize.less` sets `[hidden] { display: none; }` but bootstrap.min.css set `[hidden] { display: none !important; }` so we also need the `!important` here to be able to override the default hidden behavior on the sphinx rendered scikit-learn.org. See: https://github.com/scikit-learn/scikit-learn/issues/21755 */display: inline-block !important;position: relative;}#sk-container-id-1 div.sk-text-repr-fallback {display: none;}</style><div id=\"sk-container-id-1\" class=\"sk-top-container\"><div class=\"sk-text-repr-fallback\"><pre>LogisticRegression(random_state=0)</pre><b>In a Jupyter environment, please rerun this cell to show the HTML representation or trust the notebook. <br />On GitHub, the HTML representation is unable to render, please try loading this page with nbviewer.org.</b></div><div class=\"sk-container\" hidden><div class=\"sk-item\"><div class=\"sk-estimator sk-toggleable\"><input class=\"sk-toggleable__control sk-hidden--visually\" id=\"sk-estimator-id-1\" type=\"checkbox\" checked><label for=\"sk-estimator-id-1\" class=\"sk-toggleable__label sk-toggleable__label-arrow\">LogisticRegression</label><div class=\"sk-toggleable__content\"><pre>LogisticRegression(random_state=0)</pre></div></div></div></div></div>"
      ],
      "text/plain": [
       "LogisticRegression(random_state=0)"
      ]
     },
     "execution_count": 21,
     "metadata": {},
     "output_type": "execute_result"
    }
   ],
   "source": [
    "classifier_LR.fit(X_train, y_train)"
   ]
  },
  {
   "cell_type": "code",
   "execution_count": 22,
   "id": "a9860693",
   "metadata": {},
   "outputs": [
    {
     "data": {
      "text/plain": [
       "array([0, 0, 0, 1, 1, 1, 0, 1, 1, 1, 0, 0, 0, 0, 1, 1, 1, 0, 0, 1, 0, 1,\n",
       "       0, 0, 0, 1, 0, 0, 1, 1, 0, 0, 1, 1, 0, 1, 1, 1, 1, 1, 1, 1, 1, 1,\n",
       "       0, 0, 1, 0, 0, 1, 0, 0, 0, 0, 0, 0, 1, 0, 1, 0, 1, 0, 0, 1, 0, 0,\n",
       "       1, 0, 1, 0, 1, 1, 0, 1, 1, 1, 0, 0, 1, 1, 1, 1, 1, 1, 0, 1, 0, 1,\n",
       "       0, 1, 1, 1, 0, 0, 1, 0, 1, 0, 0, 0, 1, 1, 1, 1, 1, 1, 0, 0, 0, 0,\n",
       "       1, 1, 1, 1, 0, 1, 0, 0, 0, 1, 0, 0, 1, 0, 0, 1, 1, 0, 1, 0, 1, 1,\n",
       "       1, 0, 0, 0, 0, 1, 0, 0, 0, 0, 0, 1, 1, 0, 0, 0, 1, 1, 1, 1, 0, 1,\n",
       "       0, 1, 0, 1, 0, 1, 0, 0, 1, 0, 0, 0, 0, 1, 1, 0, 0, 1, 1, 1, 1, 1,\n",
       "       1, 1, 1, 0, 0, 0, 0, 1, 0, 1, 0, 1, 0, 0, 1, 0, 0, 0, 0, 1, 1, 1,\n",
       "       1, 1], dtype=int64)"
      ]
     },
     "execution_count": 22,
     "metadata": {},
     "output_type": "execute_result"
    }
   ],
   "source": [
    "y_pred_LR = classifier_LR.predict(X_test)\n",
    "y_pred_LR"
   ]
  },
  {
   "cell_type": "code",
   "execution_count": 23,
   "id": "7831ce13",
   "metadata": {
    "scrolled": true
   },
   "outputs": [
    {
     "data": {
      "text/plain": [
       "0.855"
      ]
     },
     "execution_count": 23,
     "metadata": {},
     "output_type": "execute_result"
    }
   ],
   "source": [
    "#check for the accuracy of the model\n",
    "acc_LR = metrics.accuracy_score(y_test, y_pred_LR)\n",
    "acc_LR"
   ]
  },
  {
   "cell_type": "code",
   "execution_count": 24,
   "id": "e5d8808b",
   "metadata": {},
   "outputs": [
    {
     "data": {
      "text/plain": [
       "0.8529411764705882"
      ]
     },
     "execution_count": 24,
     "metadata": {},
     "output_type": "execute_result"
    }
   ],
   "source": [
    "#check for the sensitivity of the model\n",
    "recall_LR = metrics.recall_score(y_test, y_pred_LR)\n",
    "recall_LR"
   ]
  },
  {
   "cell_type": "code",
   "execution_count": 25,
   "id": "f58b6453",
   "metadata": {},
   "outputs": [
    {
     "data": {
      "text/plain": [
       "0.8613861386138614"
      ]
     },
     "execution_count": 25,
     "metadata": {},
     "output_type": "execute_result"
    }
   ],
   "source": [
    "#check for the precision of the model\n",
    "precision_LR = metrics.precision_score(y_test, y_pred_LR)\n",
    "precision_LR"
   ]
  },
  {
   "cell_type": "code",
   "execution_count": 26,
   "id": "589d3fbd",
   "metadata": {},
   "outputs": [
    {
     "data": {
      "text/plain": [
       "0.8571428571428572"
      ]
     },
     "execution_count": 26,
     "metadata": {},
     "output_type": "execute_result"
    }
   ],
   "source": [
    "#Check for the F1 score of the model\n",
    "f1_score_LR =metrics.f1_score(y_test, y_pred_LR)\n",
    "f1_score_LR"
   ]
  },
  {
   "cell_type": "code",
   "execution_count": 27,
   "id": "0b1fae4a",
   "metadata": {},
   "outputs": [
    {
     "data": {
      "text/plain": [
       "0.8550420168067228"
      ]
     },
     "execution_count": 27,
     "metadata": {},
     "output_type": "execute_result"
    }
   ],
   "source": [
    "#check for the ROC_AUC score\n",
    "roc_auc_LR = metrics.roc_auc_score(y_test, y_pred_LR)\n",
    "roc_auc_LR"
   ]
  },
  {
   "cell_type": "code",
   "execution_count": 28,
   "id": "b50d1f5c",
   "metadata": {},
   "outputs": [
    {
     "data": {
      "text/plain": [
       "array([[84, 14],\n",
       "       [15, 87]], dtype=int64)"
      ]
     },
     "execution_count": 28,
     "metadata": {},
     "output_type": "execute_result"
    }
   ],
   "source": [
    "#view the confusion matrix\n",
    "cm_LR = metrics.confusion_matrix(y_test, y_pred_LR)\n",
    "cm_LR"
   ]
  },
  {
   "cell_type": "code",
   "execution_count": 29,
   "id": "d1818fd0",
   "metadata": {},
   "outputs": [
    {
     "name": "stdout",
     "output_type": "stream",
     "text": [
      "Classification Report:\n",
      "\n",
      "              precision    recall  f1-score   support\n",
      "\n",
      "           0       0.85      0.86      0.85        98\n",
      "           1       0.86      0.85      0.86       102\n",
      "\n",
      "    accuracy                           0.85       200\n",
      "   macro avg       0.85      0.86      0.85       200\n",
      "weighted avg       0.86      0.85      0.86       200\n",
      "\n"
     ]
    }
   ],
   "source": [
    "#view the classification report\n",
    "result_LR = metrics.classification_report(y_test, y_pred_LR)\n",
    "print('Classification Report:\\n')\n",
    "print(result_LR)"
   ]
  },
  {
   "cell_type": "code",
   "execution_count": 30,
   "id": "ca11d83f",
   "metadata": {
    "scrolled": false
   },
   "outputs": [
    {
     "data": {
      "image/png": "[encoded data removed]",
      "text/plain": [
       "<Figure size 640x480 with 2 Axes>"
      ]
     },
     "metadata": {},
     "output_type": "display_data"
    }
   ],
   "source": [
    "#visualize the confusion matrix\n",
    "ax = sns.heatmap(cm_LR, cmap = 'flare', annot= True, fmt = 'd')\n",
    "plt.xlabel('Predicted Class', fontsize = 12)\n",
    "plt.ylabel('True Class', fontsize = 12)\n",
    "plt.title('Confusion Matrix', fontsize = 12)\n",
    "plt.show()"
   ]
  },
  {
   "cell_type": "markdown",
   "id": "4184f53d",
   "metadata": {},
   "source": [
    "CHECK FOR OVERFITTING"
   ]
  },
  {
   "cell_type": "code",
   "execution_count": 31,
   "id": "804c191d",
   "metadata": {},
   "outputs": [
    {
     "name": "stdout",
     "output_type": "stream",
     "text": [
      "Training Accuracy: 0.85625\n",
      "Test Accuracy: 0.855\n"
     ]
    }
   ],
   "source": [
    "#Make predictions based on the training set\n",
    "y_train_pred_LR = classifier_LR.predict(X_train)\n",
    "\n",
    "#Make predictions based on the test set\n",
    "y_test_pred_LR = classifier_LR.predict(X_test)\n",
    "\n",
    "#Calculate the accuracy of the training set\n",
    "acc_train_LR = metrics.accuracy_score(y_train, y_train_pred_LR)\n",
    "\n",
    "#Calculate the accuracy of the test set\n",
    "acc_test_LR = metrics.accuracy_score(y_test, y_test_pred_LR)\n",
    "\n",
    "print('Training Accuracy:', acc_train_LR)\n",
    "print('Test Accuracy:', acc_test_LR)"
   ]
  },
  {
   "cell_type": "markdown",
   "id": "144f371c",
   "metadata": {},
   "source": [
    "TO APPLY THE KNN ALGORITHM, THE OPTIMAL NUMBER OF K(NEAREST NEIGHBORS) HAS TO BE FIRST DETERMINED\n",
    "\n",
    "APPLY GRIDSEARCH CROSS-VALIDATION METHOD TO DETERMINE K"
   ]
  },
  {
   "cell_type": "code",
   "execution_count": 32,
   "id": "6e202907",
   "metadata": {},
   "outputs": [
    {
     "data": {
      "text/html": [
       "<style>#sk-container-id-2 {color: black;background-color: white;}#sk-container-id-2 pre{padding: 0;}#sk-container-id-2 div.sk-toggleable {background-color: white;}#sk-container-id-2 label.sk-toggleable__label {cursor: pointer;display: block;width: 100%;margin-bottom: 0;padding: 0.3em;box-sizing: border-box;text-align: center;}#sk-container-id-2 label.sk-toggleable__label-arrow:before {content: \"▸\";float: left;margin-right: 0.25em;color: #696969;}#sk-container-id-2 label.sk-toggleable__label-arrow:hover:before {color: black;}#sk-container-id-2 div.sk-estimator:hover label.sk-toggleable__label-arrow:before {color: black;}#sk-container-id-2 div.sk-toggleable__content {max-height: 0;max-width: 0;overflow: hidden;text-align: left;background-color: #f0f8ff;}#sk-container-id-2 div.sk-toggleable__content pre {margin: 0.2em;color: black;border-radius: 0.25em;background-color: #f0f8ff;}#sk-container-id-2 input.sk-toggleable__control:checked~div.sk-toggleable__content {max-height: 200px;max-width: 100%;overflow: auto;}#sk-container-id-2 input.sk-toggleable__control:checked~label.sk-toggleable__label-arrow:before {content: \"▾\";}#sk-container-id-2 div.sk-estimator input.sk-toggleable__control:checked~label.sk-toggleable__label {background-color: #d4ebff;}#sk-container-id-2 div.sk-label input.sk-toggleable__control:checked~label.sk-toggleable__label {background-color: #d4ebff;}#sk-container-id-2 input.sk-hidden--visually {border: 0;clip: rect(1px 1px 1px 1px);clip: rect(1px, 1px, 1px, 1px);height: 1px;margin: -1px;overflow: hidden;padding: 0;position: absolute;width: 1px;}#sk-container-id-2 div.sk-estimator {font-family: monospace;background-color: #f0f8ff;border: 1px dotted black;border-radius: 0.25em;box-sizing: border-box;margin-bottom: 0.5em;}#sk-container-id-2 div.sk-estimator:hover {background-color: #d4ebff;}#sk-container-id-2 div.sk-parallel-item::after {content: \"\";width: 100%;border-bottom: 1px solid gray;flex-grow: 1;}#sk-container-id-2 div.sk-label:hover label.sk-toggleable__label {background-color: #d4ebff;}#sk-container-id-2 div.sk-serial::before {content: \"\";position: absolute;border-left: 1px solid gray;box-sizing: border-box;top: 0;bottom: 0;left: 50%;z-index: 0;}#sk-container-id-2 div.sk-serial {display: flex;flex-direction: column;align-items: center;background-color: white;padding-right: 0.2em;padding-left: 0.2em;position: relative;}#sk-container-id-2 div.sk-item {position: relative;z-index: 1;}#sk-container-id-2 div.sk-parallel {display: flex;align-items: stretch;justify-content: center;background-color: white;position: relative;}#sk-container-id-2 div.sk-item::before, #sk-container-id-2 div.sk-parallel-item::before {content: \"\";position: absolute;border-left: 1px solid gray;box-sizing: border-box;top: 0;bottom: 0;left: 50%;z-index: -1;}#sk-container-id-2 div.sk-parallel-item {display: flex;flex-direction: column;z-index: 1;position: relative;background-color: white;}#sk-container-id-2 div.sk-parallel-item:first-child::after {align-self: flex-end;width: 50%;}#sk-container-id-2 div.sk-parallel-item:last-child::after {align-self: flex-start;width: 50%;}#sk-container-id-2 div.sk-parallel-item:only-child::after {width: 0;}#sk-container-id-2 div.sk-dashed-wrapped {border: 1px dashed gray;margin: 0 0.4em 0.5em 0.4em;box-sizing: border-box;padding-bottom: 0.4em;background-color: white;}#sk-container-id-2 div.sk-label label {font-family: monospace;font-weight: bold;display: inline-block;line-height: 1.2em;}#sk-container-id-2 div.sk-label-container {text-align: center;}#sk-container-id-2 div.sk-container {/* jupyter's `normalize.less` sets `[hidden] { display: none; }` but bootstrap.min.css set `[hidden] { display: none !important; }` so we also need the `!important` here to be able to override the default hidden behavior on the sphinx rendered scikit-learn.org. See: https://github.com/scikit-learn/scikit-learn/issues/21755 */display: inline-block !important;position: relative;}#sk-container-id-2 div.sk-text-repr-fallback {display: none;}</style><div id=\"sk-container-id-2\" class=\"sk-top-container\"><div class=\"sk-text-repr-fallback\"><pre>GridSearchCV(cv=10, estimator=KNeighborsClassifier(),\n",
       "             param_grid={&#x27;n_neighbors&#x27;: [1, 2, 3, 4, 5, 6, 7, 8, 9, 10, 11, 12,\n",
       "                                         13, 14, 15, 16, 17, 18, 19, 20, 21, 22,\n",
       "                                         23, 24, 25, 26, 27, 28, 29, 30]},\n",
       "             scoring=&#x27;accuracy&#x27;)</pre><b>In a Jupyter environment, please rerun this cell to show the HTML representation or trust the notebook. <br />On GitHub, the HTML representation is unable to render, please try loading this page with nbviewer.org.</b></div><div class=\"sk-container\" hidden><div class=\"sk-item sk-dashed-wrapped\"><div class=\"sk-label-container\"><div class=\"sk-label sk-toggleable\"><input class=\"sk-toggleable__control sk-hidden--visually\" id=\"sk-estimator-id-2\" type=\"checkbox\" ><label for=\"sk-estimator-id-2\" class=\"sk-toggleable__label sk-toggleable__label-arrow\">GridSearchCV</label><div class=\"sk-toggleable__content\"><pre>GridSearchCV(cv=10, estimator=KNeighborsClassifier(),\n",
       "             param_grid={&#x27;n_neighbors&#x27;: [1, 2, 3, 4, 5, 6, 7, 8, 9, 10, 11, 12,\n",
       "                                         13, 14, 15, 16, 17, 18, 19, 20, 21, 22,\n",
       "                                         23, 24, 25, 26, 27, 28, 29, 30]},\n",
       "             scoring=&#x27;accuracy&#x27;)</pre></div></div></div><div class=\"sk-parallel\"><div class=\"sk-parallel-item\"><div class=\"sk-item\"><div class=\"sk-label-container\"><div class=\"sk-label sk-toggleable\"><input class=\"sk-toggleable__control sk-hidden--visually\" id=\"sk-estimator-id-3\" type=\"checkbox\" ><label for=\"sk-estimator-id-3\" class=\"sk-toggleable__label sk-toggleable__label-arrow\">estimator: KNeighborsClassifier</label><div class=\"sk-toggleable__content\"><pre>KNeighborsClassifier()</pre></div></div></div><div class=\"sk-serial\"><div class=\"sk-item\"><div class=\"sk-estimator sk-toggleable\"><input class=\"sk-toggleable__control sk-hidden--visually\" id=\"sk-estimator-id-4\" type=\"checkbox\" ><label for=\"sk-estimator-id-4\" class=\"sk-toggleable__label sk-toggleable__label-arrow\">KNeighborsClassifier</label><div class=\"sk-toggleable__content\"><pre>KNeighborsClassifier()</pre></div></div></div></div></div></div></div></div></div></div>"
      ],
      "text/plain": [
       "GridSearchCV(cv=10, estimator=KNeighborsClassifier(),\n",
       "             param_grid={'n_neighbors': [1, 2, 3, 4, 5, 6, 7, 8, 9, 10, 11, 12,\n",
       "                                         13, 14, 15, 16, 17, 18, 19, 20, 21, 22,\n",
       "                                         23, 24, 25, 26, 27, 28, 29, 30]},\n",
       "             scoring='accuracy')"
      ]
     },
     "execution_count": 32,
     "metadata": {},
     "output_type": "execute_result"
    }
   ],
   "source": [
    "#Initialize the gridsearch\n",
    "k_range = list(range(1, 31))\n",
    "\n",
    "\n",
    "param_grid = dict(n_neighbors = k_range)\n",
    "\n",
    "knn = KNeighborsClassifier()\n",
    "grid = GridSearchCV(knn, param_grid, cv = 10, scoring = 'accuracy')\n",
    "\n",
    "grid.fit(X, y)"
   ]
  },
  {
   "cell_type": "code",
   "execution_count": 33,
   "id": "a9dcc5b7",
   "metadata": {},
   "outputs": [
    {
     "name": "stdout",
     "output_type": "stream",
     "text": [
      "0.825\n",
      "{'n_neighbors': 21}\n"
     ]
    }
   ],
   "source": [
    "#view the results of the gridsearch\n",
    "results = grid.cv_results_\n",
    "\n",
    "print(grid.best_score_)\n",
    "print(grid.best_params_)"
   ]
  },
  {
   "cell_type": "markdown",
   "id": "7ec041cf",
   "metadata": {},
   "source": [
    "RUN THE K-NEAREST NEIGHBOR CLASSIFIER"
   ]
  },
  {
   "cell_type": "code",
   "execution_count": 34,
   "id": "6e74e726",
   "metadata": {},
   "outputs": [],
   "source": [
    "#Create the K-nearest neighbor model\n",
    "classifier_KNN = KNeighborsClassifier(n_neighbors= 21)"
   ]
  },
  {
   "cell_type": "code",
   "execution_count": 35,
   "id": "9f61b38b",
   "metadata": {},
   "outputs": [
    {
     "data": {
      "text/html": [
       "<style>#sk-container-id-3 {color: black;background-color: white;}#sk-container-id-3 pre{padding: 0;}#sk-container-id-3 div.sk-toggleable {background-color: white;}#sk-container-id-3 label.sk-toggleable__label {cursor: pointer;display: block;width: 100%;margin-bottom: 0;padding: 0.3em;box-sizing: border-box;text-align: center;}#sk-container-id-3 label.sk-toggleable__label-arrow:before {content: \"▸\";float: left;margin-right: 0.25em;color: #696969;}#sk-container-id-3 label.sk-toggleable__label-arrow:hover:before {color: black;}#sk-container-id-3 div.sk-estimator:hover label.sk-toggleable__label-arrow:before {color: black;}#sk-container-id-3 div.sk-toggleable__content {max-height: 0;max-width: 0;overflow: hidden;text-align: left;background-color: #f0f8ff;}#sk-container-id-3 div.sk-toggleable__content pre {margin: 0.2em;color: black;border-radius: 0.25em;background-color: #f0f8ff;}#sk-container-id-3 input.sk-toggleable__control:checked~div.sk-toggleable__content {max-height: 200px;max-width: 100%;overflow: auto;}#sk-container-id-3 input.sk-toggleable__control:checked~label.sk-toggleable__label-arrow:before {content: \"▾\";}#sk-container-id-3 div.sk-estimator input.sk-toggleable__control:checked~label.sk-toggleable__label {background-color: #d4ebff;}#sk-container-id-3 div.sk-label input.sk-toggleable__control:checked~label.sk-toggleable__label {background-color: #d4ebff;}#sk-container-id-3 input.sk-hidden--visually {border: 0;clip: rect(1px 1px 1px 1px);clip: rect(1px, 1px, 1px, 1px);height: 1px;margin: -1px;overflow: hidden;padding: 0;position: absolute;width: 1px;}#sk-container-id-3 div.sk-estimator {font-family: monospace;background-color: #f0f8ff;border: 1px dotted black;border-radius: 0.25em;box-sizing: border-box;margin-bottom: 0.5em;}#sk-container-id-3 div.sk-estimator:hover {background-color: #d4ebff;}#sk-container-id-3 div.sk-parallel-item::after {content: \"\";width: 100%;border-bottom: 1px solid gray;flex-grow: 1;}#sk-container-id-3 div.sk-label:hover label.sk-toggleable__label {background-color: #d4ebff;}#sk-container-id-3 div.sk-serial::before {content: \"\";position: absolute;border-left: 1px solid gray;box-sizing: border-box;top: 0;bottom: 0;left: 50%;z-index: 0;}#sk-container-id-3 div.sk-serial {display: flex;flex-direction: column;align-items: center;background-color: white;padding-right: 0.2em;padding-left: 0.2em;position: relative;}#sk-container-id-3 div.sk-item {position: relative;z-index: 1;}#sk-container-id-3 div.sk-parallel {display: flex;align-items: stretch;justify-content: center;background-color: white;position: relative;}#sk-container-id-3 div.sk-item::before, #sk-container-id-3 div.sk-parallel-item::before {content: \"\";position: absolute;border-left: 1px solid gray;box-sizing: border-box;top: 0;bottom: 0;left: 50%;z-index: -1;}#sk-container-id-3 div.sk-parallel-item {display: flex;flex-direction: column;z-index: 1;position: relative;background-color: white;}#sk-container-id-3 div.sk-parallel-item:first-child::after {align-self: flex-end;width: 50%;}#sk-container-id-3 div.sk-parallel-item:last-child::after {align-self: flex-start;width: 50%;}#sk-container-id-3 div.sk-parallel-item:only-child::after {width: 0;}#sk-container-id-3 div.sk-dashed-wrapped {border: 1px dashed gray;margin: 0 0.4em 0.5em 0.4em;box-sizing: border-box;padding-bottom: 0.4em;background-color: white;}#sk-container-id-3 div.sk-label label {font-family: monospace;font-weight: bold;display: inline-block;line-height: 1.2em;}#sk-container-id-3 div.sk-label-container {text-align: center;}#sk-container-id-3 div.sk-container {/* jupyter's `normalize.less` sets `[hidden] { display: none; }` but bootstrap.min.css set `[hidden] { display: none !important; }` so we also need the `!important` here to be able to override the default hidden behavior on the sphinx rendered scikit-learn.org. See: https://github.com/scikit-learn/scikit-learn/issues/21755 */display: inline-block !important;position: relative;}#sk-container-id-3 div.sk-text-repr-fallback {display: none;}</style><div id=\"sk-container-id-3\" class=\"sk-top-container\"><div class=\"sk-text-repr-fallback\"><pre>KNeighborsClassifier(n_neighbors=21)</pre><b>In a Jupyter environment, please rerun this cell to show the HTML representation or trust the notebook. <br />On GitHub, the HTML representation is unable to render, please try loading this page with nbviewer.org.</b></div><div class=\"sk-container\" hidden><div class=\"sk-item\"><div class=\"sk-estimator sk-toggleable\"><input class=\"sk-toggleable__control sk-hidden--visually\" id=\"sk-estimator-id-5\" type=\"checkbox\" checked><label for=\"sk-estimator-id-5\" class=\"sk-toggleable__label sk-toggleable__label-arrow\">KNeighborsClassifier</label><div class=\"sk-toggleable__content\"><pre>KNeighborsClassifier(n_neighbors=21)</pre></div></div></div></div></div>"
      ],
      "text/plain": [
       "KNeighborsClassifier(n_neighbors=21)"
      ]
     },
     "execution_count": 35,
     "metadata": {},
     "output_type": "execute_result"
    }
   ],
   "source": [
    "#Train the model using the training set\n",
    "classifier_KNN.fit(X_train, y_train)"
   ]
  },
  {
   "cell_type": "code",
   "execution_count": 36,
   "id": "6bc52ad1",
   "metadata": {},
   "outputs": [],
   "source": [
    "#use the trained model to predict outcome of the test set \n",
    "y_pred_KNN = classifier_KNN.predict(X_test)"
   ]
  },
  {
   "cell_type": "code",
   "execution_count": 37,
   "id": "aad286de",
   "metadata": {},
   "outputs": [
    {
     "data": {
      "text/plain": [
       "array([0, 0, 0, 1, 1, 1, 1, 1, 1, 1, 1, 0, 0, 0, 1, 1, 1, 0, 0, 1, 0, 1,\n",
       "       0, 0, 0, 1, 0, 0, 1, 0, 0, 0, 1, 1, 0, 1, 1, 0, 1, 1, 1, 1, 1, 1,\n",
       "       0, 0, 1, 0, 0, 0, 0, 1, 0, 0, 0, 0, 1, 0, 0, 0, 1, 0, 0, 1, 0, 0,\n",
       "       0, 0, 1, 0, 1, 1, 0, 1, 1, 1, 0, 0, 1, 1, 1, 1, 1, 0, 1, 1, 0, 1,\n",
       "       0, 1, 1, 1, 0, 0, 1, 0, 1, 0, 0, 0, 1, 1, 1, 1, 1, 1, 0, 0, 0, 1,\n",
       "       1, 1, 1, 1, 0, 1, 0, 0, 0, 1, 0, 1, 1, 1, 1, 0, 0, 0, 1, 0, 1, 1,\n",
       "       1, 0, 0, 0, 0, 1, 0, 0, 0, 0, 0, 1, 1, 0, 0, 0, 0, 1, 1, 0, 0, 1,\n",
       "       0, 1, 0, 1, 0, 1, 0, 0, 1, 0, 1, 0, 1, 1, 1, 0, 0, 1, 1, 1, 1, 1,\n",
       "       1, 1, 1, 0, 1, 0, 0, 1, 0, 0, 0, 1, 1, 0, 1, 0, 0, 0, 0, 1, 1, 1,\n",
       "       1, 1], dtype=int64)"
      ]
     },
     "execution_count": 37,
     "metadata": {},
     "output_type": "execute_result"
    }
   ],
   "source": [
    "#view the predicted outcome\n",
    "y_pred_KNN"
   ]
  },
  {
   "cell_type": "code",
   "execution_count": 38,
   "id": "70e28ea3",
   "metadata": {},
   "outputs": [
    {
     "data": {
      "text/plain": [
       "0.83"
      ]
     },
     "execution_count": 38,
     "metadata": {},
     "output_type": "execute_result"
    }
   ],
   "source": [
    "#Check for the accuracy of the model\n",
    "acc_KNN = metrics.accuracy_score(y_test, y_pred_KNN)\n",
    "acc_KNN"
   ]
  },
  {
   "cell_type": "code",
   "execution_count": 39,
   "id": "c9227851",
   "metadata": {},
   "outputs": [
    {
     "data": {
      "text/plain": [
       "0.8333333333333334"
      ]
     },
     "execution_count": 39,
     "metadata": {},
     "output_type": "execute_result"
    }
   ],
   "source": [
    "#Check for the precision of the model\n",
    "prec_KNN = metrics.precision_score(y_test, y_pred_KNN)\n",
    "prec_KNN"
   ]
  },
  {
   "cell_type": "code",
   "execution_count": 40,
   "id": "f31733d6",
   "metadata": {},
   "outputs": [
    {
     "data": {
      "text/plain": [
       "0.8333333333333334"
      ]
     },
     "execution_count": 40,
     "metadata": {},
     "output_type": "execute_result"
    }
   ],
   "source": [
    "#Check for the sensitivity of the model\n",
    "recall_KNN = metrics.recall_score(y_test, y_pred_KNN)\n",
    "recall_KNN"
   ]
  },
  {
   "cell_type": "code",
   "execution_count": 41,
   "id": "0585b90a",
   "metadata": {},
   "outputs": [
    {
     "data": {
      "text/plain": [
       "0.8333333333333334"
      ]
     },
     "execution_count": 41,
     "metadata": {},
     "output_type": "execute_result"
    }
   ],
   "source": [
    "#Check for the F1 score of the model\n",
    "f1_score_KNN =metrics.f1_score(y_test, y_pred_KNN)\n",
    "f1_score_KNN"
   ]
  },
  {
   "cell_type": "code",
   "execution_count": 42,
   "id": "23ddc555",
   "metadata": {},
   "outputs": [
    {
     "data": {
      "text/plain": [
       "0.8299319727891157"
      ]
     },
     "execution_count": 42,
     "metadata": {},
     "output_type": "execute_result"
    }
   ],
   "source": [
    "#Check for the ROC_AUC score of the model\n",
    "roc_auc_KNN = metrics.roc_auc_score(y_test, y_pred_KNN)\n",
    "roc_auc_KNN"
   ]
  },
  {
   "cell_type": "code",
   "execution_count": 43,
   "id": "ab525e72",
   "metadata": {},
   "outputs": [
    {
     "data": {
      "text/plain": [
       "array([[81, 17],\n",
       "       [17, 85]], dtype=int64)"
      ]
     },
     "execution_count": 43,
     "metadata": {},
     "output_type": "execute_result"
    }
   ],
   "source": [
    "#view the confusion matrix of the model\n",
    "cm_KNN = metrics.confusion_matrix(y_test, y_pred_KNN)\n",
    "cm_KNN"
   ]
  },
  {
   "cell_type": "code",
   "execution_count": 44,
   "id": "e873c972",
   "metadata": {},
   "outputs": [
    {
     "name": "stdout",
     "output_type": "stream",
     "text": [
      "Classification Report:\n",
      "\n",
      "              precision    recall  f1-score   support\n",
      "\n",
      "           0       0.83      0.83      0.83        98\n",
      "           1       0.83      0.83      0.83       102\n",
      "\n",
      "    accuracy                           0.83       200\n",
      "   macro avg       0.83      0.83      0.83       200\n",
      "weighted avg       0.83      0.83      0.83       200\n",
      "\n"
     ]
    }
   ],
   "source": [
    "#view the classification report\n",
    "result_KNN = metrics.classification_report(y_test, y_pred_KNN)\n",
    "print('Classification Report:\\n')\n",
    "print(result_KNN)"
   ]
  },
  {
   "cell_type": "code",
   "execution_count": 45,
   "id": "615fe36a",
   "metadata": {},
   "outputs": [
    {
     "data": {
      "image/png": "[encoded data removed]",
      "text/plain": [
       "<Figure size 640x480 with 2 Axes>"
      ]
     },
     "metadata": {},
     "output_type": "display_data"
    }
   ],
   "source": [
    "#visualize the confusion matrix of the model\n",
    "ax = sns.heatmap(cm_KNN, cmap = 'flare', annot= True, fmt = 'd')\n",
    "plt.xlabel('Predicted Class', fontsize = 12)\n",
    "plt.ylabel('True Class', fontsize = 12)\n",
    "plt.title('Confusion Matrix', fontsize = 12)\n",
    "plt.show()"
   ]
  },
  {
   "cell_type": "markdown",
   "id": "14be4860",
   "metadata": {},
   "source": [
    "CHECK FOR OVERFITTING"
   ]
  },
  {
   "cell_type": "code",
   "execution_count": 46,
   "id": "b41d57b4",
   "metadata": {},
   "outputs": [
    {
     "name": "stdout",
     "output_type": "stream",
     "text": [
      "Training Accuracy: 0.88375\n",
      "Test Accuracy: 0.83\n"
     ]
    }
   ],
   "source": [
    "#Make predictions based on the training set\n",
    "y_train_pred_KNN = classifier_KNN.predict(X_train)\n",
    "\n",
    "#Make predictions based on the test set\n",
    "y_test_pred_KNN = classifier_KNN.predict(X_test)\n",
    "\n",
    "#Calculate the accuracy of the training set\n",
    "acc_train_KNN = metrics.accuracy_score(y_train, y_train_pred_KNN)\n",
    "\n",
    "#Calculate the accuracy of the test set\n",
    "acc_test_KNN = metrics.accuracy_score(y_test, y_test_pred_KNN)\n",
    "\n",
    "print('Training Accuracy:', acc_train_KNN)\n",
    "print('Test Accuracy:', acc_test_KNN)"
   ]
  },
  {
   "cell_type": "code",
   "execution_count": null,
   "id": "1f5366ad",
   "metadata": {},
   "outputs": [],
   "source": []
  }
 ],
 "metadata": {
  "kernelspec": {
   "display_name": "Python 3 (ipykernel)",
   "language": "python",
   "name": "python3"
  },
  "language_info": {
   "codemirror_mode": {
    "name": "ipython",
    "version": 3
   },
   "file_extension": ".py",
   "mimetype": "text/x-python",
   "name": "python",
   "nbconvert_exporter": "python",
   "pygments_lexer": "ipython3",
   "version": "3.11.4"
  }
 },
 "nbformat": 4,
 "nbformat_minor": 5
}
